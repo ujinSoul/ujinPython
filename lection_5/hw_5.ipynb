{
 "cells": [
  {
   "cell_type": "code",
   "execution_count": 1,
   "id": "ebb4aefd",
   "metadata": {},
   "outputs": [],
   "source": [
    "documents = [\n",
    " {'type': 'passport', 'number': '2207 876234', 'name': 'Василий Гупкин'},\n",
    " {'type': 'invoice', 'number': '11-2', 'name': 'Геннадий Покемонов'},\n",
    " {'type': 'insurance', 'number': '10006', 'name': 'Аристарх Павлов'}\n",
    "]\n",
    "directories = {\n",
    " '1': ['2207 876234', '11-2'],\n",
    " '2': ['10006'],\n",
    " '3': []\n",
    "}\n",
    "               "
   ]
  },
  {
   "cell_type": "code",
   "execution_count": 2,
   "id": "cba7772e",
   "metadata": {},
   "outputs": [],
   "source": [
    "### Пункт 1\n",
    "def owner_document(number):\n",
    "    res = 'Документ не найден в базе'\n",
    "    for i in documents:\n",
    "        if i['number'] == number:\n",
    "            res = 'Владелец документа: ' + i['name']\n",
    "    return res\n",
    "\n"
   ]
  },
  {
   "cell_type": "code",
   "execution_count": 3,
   "id": "9e25bfa4",
   "metadata": {},
   "outputs": [],
   "source": [
    "### Пункт 2\n",
    "def shelf_doc(number):\n",
    "    res = 'Документ не найден в базе'\n",
    "    for i,j in directories.items():\n",
    "        for n in j:\n",
    "            if number == n:\n",
    "                res = (f'Документ хранится на полке: {i}')\n",
    "                \n",
    "    return res\n"
   ]
  },
  {
   "cell_type": "code",
   "execution_count": 4,
   "id": "db916177",
   "metadata": {},
   "outputs": [],
   "source": [
    "### Пункт 3\n",
    "def print_docs():\n",
    "    for shelf, content in directories.items():\n",
    "        for doc in documents:\n",
    "            if doc['number'] in content:\n",
    "                print(f\"№:{doc['number']}, тип: {doc['type']}, владелец: {doc['name']}, полка хранения: {shelf}\")\n",
    "                \n"
   ]
  },
  {
   "cell_type": "code",
   "execution_count": 5,
   "id": "9e5de446",
   "metadata": {},
   "outputs": [],
   "source": [
    "### Пункт 4\n",
    "def new_shelf(shelf_number):\n",
    "    #shelf_number = input('Введите номер полки:')\n",
    "    if shelf_number in directories.keys():\n",
    "        print(f'Такая полка уже существует. Текущий перечень полок: {\",\".join(list(directories.keys()))}')\n",
    "    else:    \n",
    "        directories[shelf_number] = []\n",
    "        print(f'Полка добавлена. Текущий перечень полок: {\",\".join(list(directories.keys()))}')\n",
    "        return\n",
    "\n",
    "  "
   ]
  },
  {
   "cell_type": "code",
   "execution_count": 6,
   "id": "31afb212",
   "metadata": {},
   "outputs": [],
   "source": [
    "### Пункт 5\n",
    "def delete_shelf(shelf_number):\n",
    "    #shelf_number = input('Введите номер полки:')\n",
    "    if shelf_number not in directories.keys() :\n",
    "        print(f'Такой полки не существует. Текущий перечень полок: {\",\".join(list(directories.keys()))}')\n",
    "    elif len(directories[shelf_number]) != 0:\n",
    "        print(f'На полке есть документы, удалите их перед удалением полки. Текущий перечень полок: {\",\".join(list(directories.keys()))}')\n",
    "    elif len(directories[shelf_number]) == 0:\n",
    "        del directories[shelf_number]\n",
    "        print(f'Полка удалена. Текущий перечень полок: {\",\".join(list(directories.keys()))}')\n",
    "        return\n",
    "\n"
   ]
  },
  {
   "cell_type": "code",
   "execution_count": 7,
   "id": "925a5bf8",
   "metadata": {},
   "outputs": [],
   "source": [
    "def main():\n",
    "    while True:\n",
    "        command = input('Введите команду:')\n",
    "        if command == 'p':\n",
    "            number = input('Введите номер документа:')\n",
    "            owner_document(number)\n",
    "        elif command == 's':\n",
    "            number = input('Введите номер документа:')\n",
    "            shelf_doc(number)\n",
    "        elif command == 'l':\n",
    "            print_docs()\n",
    "        elif command == 'as':\n",
    "            number = input('Введите номер полки:')\n",
    "            new_shelf(number)\n",
    "        elif command == 'ds':\n",
    "            number = input('Введите номер полки:')\n",
    "            delete_shelf(number)\n",
    "        elif command == 'q':\n",
    "            break"
   ]
  },
  {
   "cell_type": "code",
   "execution_count": 20,
   "id": "e463d683",
   "metadata": {},
   "outputs": [
    {
     "name": "stdout",
     "output_type": "stream",
     "text": [
      "Введите команду:l\n",
      "№:2207 876234, тип: passport, владелец: Василий Гупкин, полка хранения: 1\n",
      "№:11-2, тип: invoice, владелец: Геннадий Покемонов, полка хранения: 1\n",
      "№:10006, тип: insurance, владелец: Аристарх Павлов, полка хранения: 2\n",
      "Введите команду:q\n"
     ]
    }
   ],
   "source": [
    "main()"
   ]
  },
  {
   "cell_type": "code",
   "execution_count": 19,
   "id": "2e8cdd4e",
   "metadata": {},
   "outputs": [
    {
     "name": "stdout",
     "output_type": "stream",
     "text": [
      "10006\n"
     ]
    },
    {
     "data": {
      "text/plain": [
       "'Документ хранится на полке: 2'"
      ]
     },
     "execution_count": 19,
     "metadata": {},
     "output_type": "execute_result"
    }
   ],
   "source": [
    "number = input()\n",
    "shelf_doc(number)"
   ]
  }
 ],
 "metadata": {
  "kernelspec": {
   "display_name": "Python 3",
   "language": "python",
   "name": "python3"
  },
  "language_info": {
   "codemirror_mode": {
    "name": "ipython",
    "version": 3
   },
   "file_extension": ".py",
   "mimetype": "text/x-python",
   "name": "python",
   "nbconvert_exporter": "python",
   "pygments_lexer": "ipython3",
   "version": "3.8.8"
  }
 },
 "nbformat": 4,
 "nbformat_minor": 5
}
