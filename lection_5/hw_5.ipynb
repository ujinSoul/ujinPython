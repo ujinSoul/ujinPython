{
 "cells": [
  {
   "cell_type": "code",
   "execution_count": null,
   "id": "2314f086",
   "metadata": {},
   "outputs": [],
   "source": [
    "def main():\n",
    "    user_input = input()\n",
    "    if user_input == 'p':\n",
    "        owner_document()\n",
    "    elif user_input == 's':\n",
    "        shelf_doc()\n",
    "    elif user_input == 'l':\n",
    "        print_docs()\n",
    "    elif user_input == 'as':\n",
    "        new_shelf()    \n",
    "    elif user_input == 'ds':\n",
    "        delete_shelf()    \n",
    "main()\n"
   ]
  },
  {
   "cell_type": "code",
   "execution_count": 6,
   "id": "ebb4aefd",
   "metadata": {},
   "outputs": [],
   "source": [
    "documents = [\n",
    " {'type': 'passport', 'number': '2207 876234', 'name': 'Василий Гупкин'},\n",
    " {'type': 'invoice', 'number': '11-2', 'name': 'Геннадий Покемонов'},\n",
    " {'type': 'insurance', 'number': '10006', 'name': 'Аристарх Павлов'}\n",
    "]\n",
    "directories = {\n",
    " '1': ['2207 876234', '11-2'],\n",
    " '2': ['10006'],\n",
    " '3': []\n",
    "}\n",
    "               "
   ]
  },
  {
   "cell_type": "code",
   "execution_count": 114,
   "id": "cba7772e",
   "metadata": {},
   "outputs": [
    {
     "name": "stdout",
     "output_type": "stream",
     "text": [
      "11-2\n",
      "Геннадий Покемонов\n"
     ]
    }
   ],
   "source": [
    "### Пункт 1\n",
    "def owner_document():\n",
    "    doc = input()\n",
    "    for i in documents:\n",
    "        for j in i.values():\n",
    "            if doc == j:\n",
    "                print(i['name'])\n",
    "                break   \n",
    "            \n",
    "owner_document()\n"
   ]
  },
  {
   "cell_type": "code",
   "execution_count": 31,
   "id": "9e25bfa4",
   "metadata": {},
   "outputs": [
    {
     "name": "stdout",
     "output_type": "stream",
     "text": [
      "Введите номер документа:56\n",
      "Документ не найден в базе\n",
      "Документ не найден в базе\n",
      "Документ не найден в базе\n"
     ]
    }
   ],
   "source": [
    "### Пункт 2\n",
    "def shelf_doc():\n",
    "    doc = input('Введите номер документа:')\n",
    "    for shelf, content in directories.items():\n",
    "        if doc in content:\n",
    "            print(shelf)\n",
    "        else:\n",
    "            print('Документ не найден в базе') \n",
    "shelf_doc()            "
   ]
  },
  {
   "cell_type": "code",
   "execution_count": 20,
   "id": "db916177",
   "metadata": {},
   "outputs": [
    {
     "name": "stdout",
     "output_type": "stream",
     "text": [
      "2207 876234,passport,Василий Гупкин\n",
      "11-2,invoice,Геннадий Покемонов\n",
      "10006,insurance,Аристарх Павлов\n"
     ]
    }
   ],
   "source": [
    "### Пункт 3\n",
    "def print_docs():\n",
    "    for shelf, content in directories.items():\n",
    "        for doc in documents:\n",
    "            if doc['number'] in content:\n",
    "                print(f\"{doc['number']},{doc['type']},{doc['name']}\")\n",
    "print_docs()    "
   ]
  },
  {
   "cell_type": "code",
   "execution_count": 21,
   "id": "9e5de446",
   "metadata": {},
   "outputs": [
    {
     "name": "stdout",
     "output_type": "stream",
     "text": [
      "Введите номер полки:6\n",
      "Полка добавлена. Текущий перечень полок: 1,2,3,6\n"
     ]
    }
   ],
   "source": [
    "### Пункт 4\n",
    "def new_shelf():\n",
    "    shelf_number = input('Введите номер полки:')\n",
    "    if shelf_number in directories.keys():\n",
    "        print(f'Такая полка уже существует. Текущий перечень полок: {\",\".join(list(directories.keys()))}')\n",
    "    else:    \n",
    "        directories[shelf_number] = []\n",
    "        print(f'Полка добавлена. Текущий перечень полок: {\",\".join(list(directories.keys()))}')\n",
    "new_shelf()    "
   ]
  },
  {
   "cell_type": "code",
   "execution_count": 22,
   "id": "31afb212",
   "metadata": {},
   "outputs": [],
   "source": [
    "### Пункт 5\n",
    "def delete_shelf():\n",
    "    shelf_number = input('Введите номер полки:')\n",
    "    if shelf_number not in directories.keys() :\n",
    "        print(f'Такой полки не существует. Текущий перечень полок: {\",\".join(list(directories.keys()))}')\n",
    "    elif len(directories[shelf_number]) != 0:\n",
    "        print(f'На полке есть документы, удалите их перед удалением полки. Текущий перечень полок: {\",\".join(list(directories.keys()))}')\n",
    "    elif len(directories[shelf_number]) == 0:\n",
    "        del directories[shelf_number]\n",
    "        print(f'Полка удалена. Текущий перечень полок: {\",\".join(list(directories.keys()))}')\n"
   ]
  },
  {
   "cell_type": "code",
   "execution_count": 45,
   "id": "5d3c611e",
   "metadata": {},
   "outputs": [
    {
     "name": "stdout",
     "output_type": "stream",
     "text": [
      "11-2\n",
      "Документ не найден в базе\n",
      "Документ не найден в базе\n",
      "Документ не найден в базе\n",
      "Документ не найден в базе\n"
     ]
    },
    {
     "ename": "TypeError",
     "evalue": "string indices must be integers",
     "output_type": "error",
     "traceback": [
      "\u001b[1;31m---------------------------------------------------------------------------\u001b[0m",
      "\u001b[1;31mTypeError\u001b[0m                                 Traceback (most recent call last)",
      "\u001b[1;32m<ipython-input-45-bf284baeab3a>\u001b[0m in \u001b[0;36m<module>\u001b[1;34m\u001b[0m\n\u001b[0;32m      3\u001b[0m     \u001b[1;32mfor\u001b[0m \u001b[0mi\u001b[0m \u001b[1;32min\u001b[0m \u001b[0mj\u001b[0m\u001b[1;33m.\u001b[0m\u001b[0mvalues\u001b[0m\u001b[1;33m(\u001b[0m\u001b[1;33m)\u001b[0m\u001b[1;33m:\u001b[0m\u001b[1;33m\u001b[0m\u001b[1;33m\u001b[0m\u001b[0m\n\u001b[0;32m      4\u001b[0m         \u001b[1;32mif\u001b[0m \u001b[0mdoc\u001b[0m \u001b[1;33m==\u001b[0m \u001b[0mi\u001b[0m\u001b[1;33m:\u001b[0m\u001b[1;33m\u001b[0m\u001b[1;33m\u001b[0m\u001b[0m\n\u001b[1;32m----> 5\u001b[1;33m             \u001b[0mprint\u001b[0m\u001b[1;33m(\u001b[0m\u001b[1;34mf'Владелец документа: {i[\"name\"]}'\u001b[0m\u001b[1;33m)\u001b[0m\u001b[1;33m\u001b[0m\u001b[1;33m\u001b[0m\u001b[0m\n\u001b[0m\u001b[0;32m      6\u001b[0m         \u001b[1;32melse\u001b[0m\u001b[1;33m:\u001b[0m\u001b[1;33m\u001b[0m\u001b[1;33m\u001b[0m\u001b[0m\n\u001b[0;32m      7\u001b[0m             \u001b[0mprint\u001b[0m\u001b[1;33m(\u001b[0m\u001b[1;34m'Документ не найден в базе'\u001b[0m\u001b[1;33m)\u001b[0m\u001b[1;33m\u001b[0m\u001b[1;33m\u001b[0m\u001b[0m\n",
      "\u001b[1;31mTypeError\u001b[0m: string indices must be integers"
     ]
    }
   ],
   "source": [
    "\n",
    "doc = input()\n",
    "for j in documents:\n",
    "    for i in j.values():\n",
    "        if doc == i:\n",
    "            print(f'Владелец документа: {i[\"name\"]}')\n",
    "        else:\n",
    "            print('Документ не найден в базе')\n",
    "    \n",
    "    #for j in i.values():\n",
    "       # if x == j:\n",
    "       #     print('zaluppa')\n",
    "        #else:\n",
    "        #    print('zdzd')\n",
    "    #"
   ]
  },
  {
   "cell_type": "code",
   "execution_count": 84,
   "id": "cc8f3202",
   "metadata": {},
   "outputs": [
    {
     "name": "stdout",
     "output_type": "stream",
     "text": [
      "11-2\n",
      "Документ не найден в базе\n"
     ]
    }
   ],
   "source": [
    "### Пункт 1\n",
    "doc = input()\n",
    "for i in documents:\n",
    "    for j in i.values():\n",
    "        if doc == j:\n",
    "            print(i['name'])\n",
    "            break\n",
    "        \n",
    "    \n",
    "    \n",
    "            \n",
    "\n",
    "        #else:\n",
    "            #print('Документ не найден в базе')\n",
    "\n"
   ]
  },
  {
   "cell_type": "code",
   "execution_count": 58,
   "id": "5ec605dc",
   "metadata": {},
   "outputs": [
    {
     "data": {
      "text/plain": [
       "{'type': 'invoice', 'number': '11-2', 'name': 'Геннадий Покемонов'}"
      ]
     },
     "execution_count": 58,
     "metadata": {},
     "output_type": "execute_result"
    }
   ],
   "source": [
    "documents[1]\n"
   ]
  }
 ],
 "metadata": {
  "kernelspec": {
   "display_name": "Python 3",
   "language": "python",
   "name": "python3"
  },
  "language_info": {
   "codemirror_mode": {
    "name": "ipython",
    "version": 3
   },
   "file_extension": ".py",
   "mimetype": "text/x-python",
   "name": "python",
   "nbconvert_exporter": "python",
   "pygments_lexer": "ipython3",
   "version": "3.8.8"
  }
 },
 "nbformat": 4,
 "nbformat_minor": 5
}
