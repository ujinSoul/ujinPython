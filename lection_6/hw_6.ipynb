{
 "cells": [
  {
   "cell_type": "code",
   "execution_count": 10,
   "id": "588f5121",
   "metadata": {},
   "outputs": [],
   "source": [
    "import json\n",
    "with open(\"E:\\purchase_log.txt\", \"r\", encoding = 'utf-8') as f:\n",
    "    purchases = {}\n",
    "    for line in f:\n",
    "        new_line = json.loads(line)\n",
    "        purchases[ new_line['user_id'] ] = new_line['category']\n",
    "f.close()\n"
   ]
  },
  {
   "cell_type": "code",
   "execution_count": 11,
   "id": "5096cdf1",
   "metadata": {
    "scrolled": true
   },
   "outputs": [],
   "source": [
    "import json\n",
    "with open(\"E:\\\\funnel.csv\", mode = \"w\", encoding = 'utf-8') as f:\n",
    "    with open(\"E:\\\\visit_log.csv\", mode = \"r\", encoding = 'utf-8') as vl:\n",
    "        for line in vl:\n",
    "            user_id = line.strip().split(',')[0] \n",
    "            if user_id in purchases.keys():\n",
    "                new_line = line.rstrip() + ',' + purchases[user_id]\n",
    "                f.write(new_line + '\\n')\n",
    "    f.close()\n",
    "vl.close()    \n",
    "        "
   ]
  }
 ],
 "metadata": {
  "kernelspec": {
   "display_name": "Python 3",
   "language": "python",
   "name": "python3"
  },
  "language_info": {
   "codemirror_mode": {
    "name": "ipython",
    "version": 3
   },
   "file_extension": ".py",
   "mimetype": "text/x-python",
   "name": "python",
   "nbconvert_exporter": "python",
   "pygments_lexer": "ipython3",
   "version": "3.8.8"
  }
 },
 "nbformat": 4,
 "nbformat_minor": 5
}
