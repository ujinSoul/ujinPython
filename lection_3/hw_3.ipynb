{
 "cells": [
  {
   "cell_type": "code",
   "execution_count": 17,
   "id": "584f9c1a",
   "metadata": {},
   "outputs": [
    {
     "name": "stdout",
     "output_type": "stream",
     "text": [
      "input word:123456789\n",
      "5\n"
     ]
    }
   ],
   "source": [
    "word=str(input('input word:'))\n",
    "length=len(word)\n",
    "if length % 2 == 0:\n",
    "    print(word[(length//2-1):(length//2+1)])\n",
    "else:\n",
    "    print(word[(length//2)])"
   ]
  },
  {
   "cell_type": "code",
   "execution_count": null,
   "id": "c952c12b",
   "metadata": {
    "scrolled": true
   },
   "outputs": [
    {
     "name": "stdout",
     "output_type": "stream",
     "text": [
      "1\n",
      "1\n",
      "2\n",
      "1\n",
      "1\n",
      "4\n",
      "1\n",
      "1\n",
      "6\n",
      "1\n",
      "0\n",
      "7\n",
      "0\n",
      "0\n",
      "7\n",
      "0\n",
      "0\n",
      "7\n",
      "00\n",
      "00\n",
      "7\n"
     ]
    }
   ],
   "source": [
    "digit = [int()]\n",
    "while digit.append(int(input())) != 0:\n",
    "    digit[0] = 0\n",
    "    digit.append(int(input()))\n",
    "    print(sum(digit))"
   ]
  }
 ],
 "metadata": {
  "kernelspec": {
   "display_name": "Python 3",
   "language": "python",
   "name": "python3"
  },
  "language_info": {
   "codemirror_mode": {
    "name": "ipython",
    "version": 3
   },
   "file_extension": ".py",
   "mimetype": "text/x-python",
   "name": "python",
   "nbconvert_exporter": "python",
   "pygments_lexer": "ipython3",
   "version": "3.8.8"
  }
 },
 "nbformat": 4,
 "nbformat_minor": 5
}
