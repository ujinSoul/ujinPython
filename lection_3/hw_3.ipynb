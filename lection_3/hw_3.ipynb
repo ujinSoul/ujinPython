{
 "cells": [
  {
   "cell_type": "code",
   "execution_count": 17,
   "id": "584f9c1a",
   "metadata": {},
   "outputs": [
    {
     "name": "stdout",
     "output_type": "stream",
     "text": [
      "input word:123456789\n",
      "5\n"
     ]
    }
   ],
   "source": [
    "word=str(input('input word:'))\n",
    "length=len(word)\n",
    "if length % 2 == 0:\n",
    "    print(word[(length//2-1):(length//2+1)])\n",
    "else:\n",
    "    print(word[(length//2)])"
   ]
  },
  {
   "cell_type": "code",
   "execution_count": 7,
   "id": "c952c12b",
   "metadata": {
    "scrolled": true
   },
   "outputs": [
    {
     "ename": "SyntaxError",
     "evalue": "unexpected character after line continuation character (<ipython-input-7-44fed960742b>, line 2)",
     "output_type": "error",
     "traceback": [
      "\u001b[1;36m  File \u001b[1;32m\"<ipython-input-7-44fed960742b>\"\u001b[1;36m, line \u001b[1;32m2\u001b[0m\n\u001b[1;33m    inputed_digit = int(input('Введите число:' \\n'))\u001b[0m\n\u001b[1;37m                                                    ^\u001b[0m\n\u001b[1;31mSyntaxError\u001b[0m\u001b[1;31m:\u001b[0m unexpected character after line continuation character\n"
     ]
    }
   ],
   "source": [
    "digit = []\n",
    "inputed_digit = int(input('Введите число:' \\n'))\n",
    "while inputed_digit != 0:\n",
    "    digit.append(inputed_digit)\n",
    "    inputed_digit = int(input('Введите число:'))\n",
    "print('Результат:','\\n',sum(digit))\n",
    "    \n",
    "  "
   ]
  },
  {
   "cell_type": "code",
   "execution_count": 72,
   "id": "c962c5f1",
   "metadata": {},
   "outputs": [
    {
     "name": "stdout",
     "output_type": "stream",
     "text": [
      "('Alex', 'Emma') <class 'tuple'>\n",
      "('Arthur', 'Kate') <class 'tuple'>\n",
      "('John', 'Kira') <class 'tuple'>\n",
      "('Peter', 'Liza') <class 'tuple'>\n",
      "('Richard', 'Trisha') <class 'tuple'>\n"
     ]
    }
   ],
   "source": [
    "boys = ['Peter', 'Alex', 'John', 'Arthur', 'Richard']\n",
    "girls = ['Kate', 'Liza', 'Kira', 'Emma', 'Trisha', 'Zoey']\n",
    "boys.sort()\n",
    "girls.sort()\n",
    "zipped_pairs = zip(boys,girls)\n",
    "pairs = list(zipped_pairs)\n",
    "for each_pair in pairs:\n",
    "    i = 0\n",
    "    ''.join(pairs[i])\n",
    "    print(each_pair,type(each_pair))\n",
    "    i += i\n",
    "    "
   ]
  },
  {
   "cell_type": "code",
   "execution_count": 23,
   "id": "50121a13",
   "metadata": {},
   "outputs": [
    {
     "name": "stdout",
     "output_type": "stream",
     "text": [
      "Идеальные пары:\n",
      "Alex и Emma\n",
      "Arthur и Kate\n",
      "John и Kira\n",
      "Peter и Liza\n",
      "Richard и Trisha\n"
     ]
    }
   ],
   "source": [
    "boys = ['Peter', 'Alex', 'John', 'Arthur', 'Richard']\n",
    "girls = ['Kate', 'Liza', 'Kira', 'Emma', 'Trisha']\n",
    "boys.sort()\n",
    "girls.sort()\n",
    "zipped_pairs = zip(boys,girls)\n",
    "if len(boys) != len(girls):\n",
    "    print('Результат:','\\n','Внимание, кто-то может остаться без пары!')\n",
    "else:\n",
    "    print('Идеальные пары:')\n",
    "    for each_pair in zipped_pairs:\n",
    "        i = 0\n",
    "        print(each_pair[i],'и',each_pair[i+1])\n",
    "        i += i\n",
    "\n"
   ]
  },
  {
   "cell_type": "code",
   "execution_count": 23,
   "id": "cddd6390",
   "metadata": {},
   "outputs": [
    {
     "name": "stdout",
     "output_type": "stream",
     "text": [
      "Результат: \n",
      " Средняя температура в странах: \n",
      "\n",
      "Thailand 23.9 C\n",
      "Germany 13.8 C\n",
      "Russia 3.7 C\n",
      "Poland 12.0 C\n",
      "England 8.9 C\n"
     ]
    }
   ],
   "source": [
    "countries_temperature = [\n",
    "['Thailand', [75.2, 77, 78.8, 73.4, 68, 75.2, 77]],\n",
    "['Germany', [57.2, 55.4, 59, 59, 53.6]],\n",
    "['Russia', [35.6, 37.4, 39.2, 41, 42.8, 39.2, 35.6]],\n",
    "['Poland', [50, 50, 53.6, 57.2, 55.4, 55.4]],\n",
    "['England', [50, 48, 53.6, 40.2, 55.4, 40.4]]    \n",
    "]\n",
    "print('Результат:','\\n','Средняя температура в странах:','\\n')\n",
    "for country in countries_temperature:\n",
    "    i = 0 \n",
    "    average = round(((sum(country[i+1])/len(country[i+1]) - 32) / 1.8),1)\n",
    "    print(country[i],average,'C')\n",
    "    i += i"
   ]
  },
  {
   "cell_type": "code",
   "execution_count": 128,
   "id": "c0577628",
   "metadata": {},
   "outputs": [
    {
     "name": "stdout",
     "output_type": "stream",
     "text": [
      "user6\n",
      "user6\n"
     ]
    }
   ],
   "source": [
    "stream = [\n",
    "'2018-01-01,user9,3',\n",
    "'2018-01-07,user6,4',]\n",
    "for n in stream:\n",
    "    #i = 0\n",
    "    print(stream[1][11:16])\n",
    "    \n",
    "    #i += i\n",
    "\n"
   ]
  },
  {
   "cell_type": "code",
   "execution_count": 129,
   "id": "e8a4d9d4",
   "metadata": {
    "scrolled": true
   },
   "outputs": [
    {
     "name": "stdout",
     "output_type": "stream",
     "text": [
      "user1\n",
      "user1\n",
      "user1\n",
      "user1\n",
      "user1\n",
      "user1\n",
      "user1\n",
      "user1\n",
      "user1\n",
      "user1\n",
      "user1\n",
      "user1\n"
     ]
    }
   ],
   "source": [
    "stream = [\n",
    "'2018-01-01,user1,3',\n",
    "'2018-01-07,user1,4',\n",
    "'2018-03-29,user1,1',\n",
    "'2018-04-04,user1,13',\n",
    "'2018-01-05,user2,7',\n",
    "'2018-06-14,user3,4',\n",
    "'2018-07-02,user3,10',\n",
    "'2018-03-21,user4,19',\n",
    "'2018-03-22,user4,4',\n",
    "'2018-04-22,user4,8',\n",
    "'2018-05-03,user4,9',\n",
    "'2018-05-11,user4,11',\n",
    "]\n",
    "for n in stream:\n",
    "    i = 0\n",
    "    print(stream[i][11:16])\n",
    "    i += i\n"
   ]
  },
  {
   "cell_type": "code",
   "execution_count": 131,
   "id": "371b40d7",
   "metadata": {},
   "outputs": [
    {
     "name": "stdout",
     "output_type": "stream",
     "text": [
      "2 2 23 3 3\n",
      "3\n",
      "4\n",
      "3\n",
      "4\n",
      "3\n",
      "3\n",
      "4\n",
      "3\n",
      "4\n",
      "3\n"
     ]
    }
   ],
   "source": [
    "\n"
   ]
  }
 ],
 "metadata": {
  "kernelspec": {
   "display_name": "Python 3",
   "language": "python",
   "name": "python3"
  },
  "language_info": {
   "codemirror_mode": {
    "name": "ipython",
    "version": 3
   },
   "file_extension": ".py",
   "mimetype": "text/x-python",
   "name": "python",
   "nbconvert_exporter": "python",
   "pygments_lexer": "ipython3",
   "version": "3.8.8"
  }
 },
 "nbformat": 4,
 "nbformat_minor": 5
}
