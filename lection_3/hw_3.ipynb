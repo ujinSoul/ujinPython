{
 "cells": [
  {
   "cell_type": "code",
   "execution_count": 1,
   "id": "584f9c1a",
   "metadata": {},
   "outputs": [
    {
     "name": "stdout",
     "output_type": "stream",
     "text": [
      "input word:5555\n",
      "55\n"
     ]
    }
   ],
   "source": [
    "word=str(input('input word:'))\n",
    "length=len(word)\n",
    "if length % 2 == 0:\n",
    "    print(word[(length//2-1):(length//2+1)])\n",
    "else:\n",
    "    print(word[(length//2)])"
   ]
  },
  {
   "cell_type": "code",
   "execution_count": 3,
   "id": "c952c12b",
   "metadata": {
    "scrolled": true
   },
   "outputs": [
    {
     "name": "stdout",
     "output_type": "stream",
     "text": [
      "Введите число: \n",
      "5\n",
      "Введите число:5\n",
      "Введите число:5\n",
      "Введите число:5\n",
      "Введите число:50\n",
      "Введите число:0\n",
      "Результат: \n",
      " 70\n"
     ]
    }
   ],
   "source": [
    "digit = []\n",
    "inputed_digit = int(input('Введите число: \\n'))\n",
    "while inputed_digit != 0:\n",
    "    digit.append(inputed_digit)\n",
    "    inputed_digit = int(input('Введите число:'))\n",
    "print('Результат:','\\n', sum(digit))\n",
    "    \n",
    "  "
   ]
  },
  {
   "cell_type": "code",
   "execution_count": 1,
   "id": "50121a13",
   "metadata": {},
   "outputs": [
    {
     "name": "stdout",
     "output_type": "stream",
     "text": [
      "Идеальные пары:\n",
      "Alex и Emma\n",
      "Arthur и Kate\n",
      "John и Kira\n",
      "Peter и Liza\n",
      "Richard и Trisha\n"
     ]
    }
   ],
   "source": [
    "boys = ['Peter', 'Alex', 'John', 'Arthur', 'Richard']\n",
    "girls = ['Kate', 'Liza', 'Kira', 'Emma', 'Trisha']\n",
    "boys.sort()\n",
    "girls.sort()\n",
    "zipped_pairs = zip(boys,girls)\n",
    "if len(boys) != len(girls):\n",
    "    print('Результат:','\\n','Внимание, кто-то может остаться без пары!')\n",
    "else:\n",
    "    print('Идеальные пары:')\n",
    "    for each_pair in zipped_pairs:\n",
    "        print(each_pair[0],'и',each_pair[1])\n"
   ]
  },
  {
   "cell_type": "code",
   "execution_count": 17,
   "id": "cddd6390",
   "metadata": {},
   "outputs": [
    {
     "name": "stdout",
     "output_type": "stream",
     "text": [
      "Результат: \n",
      " Средняя температура в странах: \n",
      "\n",
      "Thailand 23.9 C\n",
      "Germany 13.8 C\n",
      "Russia 3.7 C\n",
      "Poland 12.0 C\n",
      "England 8.9 C\n",
      "Swiss 6.8 C\n"
     ]
    }
   ],
   "source": [
    "countries_temperature = [\n",
    "['Thailand', [75.2, 77, 78.8, 73.4, 68, 75.2, 77]],\n",
    "['Germany', [57.2, 55.4, 59, 59, 53.6]],\n",
    "['Russia', [35.6, 37.4, 39.2, 41, 42.8, 39.2, 35.6]],\n",
    "['Poland', [50, 50, 53.6, 57.2, 55.4, 55.4]],\n",
    "['England', [50, 48, 53.6, 40.2, 55.4, 40.4]],    \n",
    "['Swiss', [60, 40, 23.6, 57, 50, 35]]\n",
    "]\n",
    "print('Результат:','\\n','Средняя температура в странах:','\\n')\n",
    "for country in countries_temperature:\n",
    "    average = round(((sum(country[i+1])/len(country[i+1]) - 32) / 1.8),1)\n",
    "    print(country[0],average,'C')"
   ]
  },
  {
   "cell_type": "code",
   "execution_count": 46,
   "id": "057ab5b9",
   "metadata": {
    "scrolled": true
   },
   "outputs": [
    {
     "name": "stdout",
     "output_type": "stream",
     "text": [
      "Среднее количество просмотров на уникального пользователя:30.83\n"
     ]
    }
   ],
   "source": [
    "stream = [\n",
    "    '2018-01-01,user1,3',\n",
    "    '2018-01-07,user1,4',\n",
    "    '2018-03-29,user1,1',\n",
    "    '2018-04-04,user1,13',\n",
    "    '2018-01-05,user2,7',\n",
    "    '2018-06-14,user3,4',\n",
    "    '2018-07-02,user3,10',\n",
    "    '2018-03-21,user4,19',\n",
    "    '2018-03-22,user4,4',\n",
    "    '2018-04-22,user4,8',\n",
    "    '2018-05-03,user4,9',\n",
    "    '2018-05-11,user4,11',\n",
    "    '2018-05-11,user9,40',\n",
    "    '2018-07-11,user12,52'\n",
    "]\n",
    "users = []\n",
    "count_viewes = []\n",
    "for n in stream:\n",
    "    el = n.split(',')\n",
    "    users.append(el[1])\n",
    "    count_viewes.append(int(el[2]))\n",
    "count_users = len(set(users))\n",
    "print(f'Среднее количество просмотров на уникального пользователя:{round((sum(count_viewes)/count_users),2)}')\n",
    "\n",
    "\n",
    "    "
   ]
  },
  {
   "cell_type": "code",
   "execution_count": 52,
   "id": "aea305af",
   "metadata": {},
   "outputs": [
    {
     "name": "stdout",
     "output_type": "stream",
     "text": [
      "5 5 5 5 6 6 6 3 3 2 1 8 97 7\n",
      "3 3 5 5 5 5 6 6 6\n"
     ]
    }
   ],
   "source": [
    "digits = input().split()\n",
    "result = []\n",
    "for i in digits:\n",
    "    if i not in result and digits.count(i)>1: \n",
    "        result.append(int(i))\n",
    "print(' '.join(list(map(str,sorted(result)))))"
   ]
  }
 ],
 "metadata": {
  "kernelspec": {
   "display_name": "Python 3",
   "language": "python",
   "name": "python3"
  },
  "language_info": {
   "codemirror_mode": {
    "name": "ipython",
    "version": 3
   },
   "file_extension": ".py",
   "mimetype": "text/x-python",
   "name": "python",
   "nbconvert_exporter": "python",
   "pygments_lexer": "ipython3",
   "version": "3.8.8"
  }
 },
 "nbformat": 4,
 "nbformat_minor": 5
}
