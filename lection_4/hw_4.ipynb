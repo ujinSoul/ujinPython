{
 "cells": [
  {
   "cell_type": "code",
   "execution_count": 14,
   "id": "c92a0fb4",
   "metadata": {},
   "outputs": [
    {
     "name": "stdout",
     "output_type": "stream",
     "text": [
      "{2, 3, 4}\n",
      "{1, 3, 4}\n",
      "Поисковых запросов, содержащих {2, 3, 4} слов(а): {2, 3, 4}%\n",
      "Поисковых запросов, содержащих {1, 3, 4} слов(а): {1, 3, 4}%\n"
     ]
    }
   ],
   "source": [
    "queries = [\n",
    "    'смотреть сериалы онлайн',\n",
    "    'новости спорта',\n",
    "    'афиша кино',\n",
    "    'курс доллара',\n",
    "    'сериалы этим летом',\n",
    "    'курс по питону',\n",
    "    'сериалы про спорт',\n",
    "    'игры на пк стим'\n",
    "]\n",
    "words_in_queries = []\n",
    "for n in queries:\n",
    "    words_in_queries.append(len(n.split(' ')))\n",
    "distinct_words = set(words_in_queries)    \n",
    "print(distinct_words)\n",
    "count_words = []\n",
    "for i in words_in_queries:\n",
    "    count_words.append(words_in_queries.count(i))\n",
    "distinct_count = set(count_words)\n",
    "print(distinct_count)\n",
    "for output_words in distinct_words,distinct_count:\n",
    "    print(f'Поисковых запросов, содержащих {output_words} слов(а): {output_words}%')\n"
   ]
  }
 ],
 "metadata": {
  "kernelspec": {
   "display_name": "Python 3",
   "language": "python",
   "name": "python3"
  },
  "language_info": {
   "codemirror_mode": {
    "name": "ipython",
    "version": 3
   },
   "file_extension": ".py",
   "mimetype": "text/x-python",
   "name": "python",
   "nbconvert_exporter": "python",
   "pygments_lexer": "ipython3",
   "version": "3.8.8"
  }
 },
 "nbformat": 4,
 "nbformat_minor": 5
}
