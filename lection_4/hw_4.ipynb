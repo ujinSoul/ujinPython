{
 "cells": [
  {
   "cell_type": "code",
   "execution_count": 1,
   "id": "a9d04add",
   "metadata": {
    "scrolled": true
   },
   "outputs": [
    {
     "ename": "SyntaxError",
     "evalue": "f-string: empty expression not allowed (<ipython-input-1-2d1cce677e1f>, line 19)",
     "output_type": "error",
     "traceback": [
      "\u001b[1;36m  File \u001b[1;32m\"<ipython-input-1-2d1cce677e1f>\"\u001b[1;36m, line \u001b[1;32m19\u001b[0m\n\u001b[1;33m    print(f'Поисковых запросов, содержащих {output} слов(а):{} %')\u001b[0m\n\u001b[1;37m          ^\u001b[0m\n\u001b[1;31mSyntaxError\u001b[0m\u001b[1;31m:\u001b[0m f-string: empty expression not allowed\n"
     ]
    }
   ],
   "source": [
    "queries = [\n",
    "    'смотреть сериалы онлайн',\n",
    "    'новости спорта',\n",
    "    'афиша кино',\n",
    "    'курс доллара',\n",
    "    'сериалы этим летом',\n",
    "    'курс по питону',\n",
    "    'сериалы про спорт',\n",
    "    'игры на пк стим'\n",
    "]\n",
    "words_in_queries = []\n",
    "for n in queries:\n",
    "    words_in_queries.append(len(n.split(' ')))\n",
    "unique_words = (set(words_in_queries))\n",
    "count_words = []\n",
    "for i in unique_words:\n",
    "    count_words.append(words_in_queries.count(i))\n",
    "for output in unique_words:\n",
    "    print(f'Поисковых запросов, содержащих {output} слов(а):{} %')"
   ]
  },
  {
   "cell_type": "code",
   "execution_count": 28,
   "id": "672cc003",
   "metadata": {
    "scrolled": false
   },
   "outputs": [
    {
     "name": "stdout",
     "output_type": "stream",
     "text": [
      "{98, 35, 15, 213, 54, 119}\n"
     ]
    }
   ],
   "source": [
    "ids = {'user1': [213, 213, 213, 15, 213], \n",
    "       'user2': [54, 54, 119, 119, 119], \n",
    "       'user3': [213, 98, 98, 35]}\n",
    "print(set(sum(list(ids.values()),[])))\n"
   ]
  },
  {
   "cell_type": "code",
   "execution_count": 1,
   "id": "43eaea9d",
   "metadata": {},
   "outputs": [
    {
     "name": "stdout",
     "output_type": "stream",
     "text": [
      "{'vk': {'revenue': 103, 'cost': 98, 'ROI': 5.1}, 'yandex': {'revenue': 179, 'cost': 153, 'ROI': 16.99}, 'facebook': {'revenue': 103, 'cost': 110, 'ROI': -6.36}, 'adwords': {'revenue': 35, 'cost': 34, 'ROI': 2.94}, 'twitter': {'revenue': 11, 'cost': 24, 'ROI': -54.17}}\n"
     ]
    }
   ],
   "source": [
    "results = {\n",
    "    'vk': {'revenue': 103, 'cost': 98},\n",
    "    'yandex': {'revenue': 179, 'cost': 153},\n",
    "    'facebook': {'revenue': 103, 'cost': 110},\n",
    "    'adwords': {'revenue': 35, 'cost': 34},\n",
    "    'twitter': {'revenue': 11, 'cost': 24},\n",
    "}\n",
    "values = list(results.values())\n",
    "for roi in values:\n",
    "    roi['ROI'] = round(((roi['revenue']/roi['cost']-1)*100),2)\n",
    "print(results)"
   ]
  },
  {
   "cell_type": "code",
   "execution_count": 40,
   "id": "c133f5cd",
   "metadata": {},
   "outputs": [
    {
     "name": "stdout",
     "output_type": "stream",
     "text": [
      "Результат: Максимальный объем продаж на рекламном канале: twitter\n"
     ]
    }
   ],
   "source": [
    "stats = {'facebook': 55,'twitter':200, 'yandex': 115, 'vk': 120, 'google': 99, 'email': 42, 'ok': 98, 'youtube': 155}\n",
    "sorted_stats = sorted(stats.items(), key=lambda x: x[1])\n",
    "print(f'Результат: Максимальный объем продаж на рекламном канале: {sorted_stats[-1][0]}')\n"
   ]
  }
 ],
 "metadata": {
  "kernelspec": {
   "display_name": "Python 3",
   "language": "python",
   "name": "python3"
  },
  "language_info": {
   "codemirror_mode": {
    "name": "ipython",
    "version": 3
   },
   "file_extension": ".py",
   "mimetype": "text/x-python",
   "name": "python",
   "nbconvert_exporter": "python",
   "pygments_lexer": "ipython3",
   "version": "3.8.8"
  }
 },
 "nbformat": 4,
 "nbformat_minor": 5
}
