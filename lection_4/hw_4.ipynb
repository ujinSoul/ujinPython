{
 "cells": [
  {
   "cell_type": "code",
   "execution_count": 19,
   "id": "c92a0fb4",
   "metadata": {},
   "outputs": [
    {
     "name": "stdout",
     "output_type": "stream",
     "text": [
      "Поисковых запросов, содержащих 2 слов(а): %\n",
      "Поисковых запросов, содержащих 3 слов(а): %\n",
      "Поисковых запросов, содержащих 4 слов(а): %\n"
     ]
    }
   ],
   "source": [
    "queries = [\n",
    "    'смотреть сериалы онлайн',\n",
    "    'новости спорта',\n",
    "    'афиша кино',\n",
    "    'курс доллара',\n",
    "    'сериалы этим летом',\n",
    "    'курс по питону',\n",
    "    'сериалы про спорт',\n",
    "    'игры на пк стим'\n",
    "]\n",
    "words_in_queries = []\n",
    "for n in queries:\n",
    "    words_in_queries.append(len(n.split(' ')))\n",
    "distinct_words = set(words_in_queries)    \n",
    "count_words = []\n",
    "for i in words_in_queries:\n",
    "    count_words.append(words_in_queries.count(i))\n",
    "distinct_count = set(count_words)\n",
    "for output_words in distinct_words:\n",
    "    print(f'Поисковых запросов, содержащих {output_words} слов(а): %')\n"
   ]
  }
 ],
 "metadata": {
  "kernelspec": {
   "display_name": "Python 3",
   "language": "python",
   "name": "python3"
  },
  "language_info": {
   "codemirror_mode": {
    "name": "ipython",
    "version": 3
   },
   "file_extension": ".py",
   "mimetype": "text/x-python",
   "name": "python",
   "nbconvert_exporter": "python",
   "pygments_lexer": "ipython3",
   "version": "3.8.8"
  }
 },
 "nbformat": 4,
 "nbformat_minor": 5
}
