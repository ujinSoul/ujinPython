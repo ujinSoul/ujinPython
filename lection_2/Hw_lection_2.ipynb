{
 "cells": [
  {
   "cell_type": "code",
   "execution_count": 2,
   "id": "9a98dd04",
   "metadata": {},
   "outputs": [
    {
     "name": "stdout",
     "output_type": "stream",
     "text": [
      "input phrase_1110\n",
      "input phrase_201100\n",
      "Фраза 1 длиннее фразы 2\n"
     ]
    }
   ],
   "source": [
    "phrase_1 = str(input('input phrase_1')) \n",
    "phrase_2 = str(input('input phrase_2'))  \n",
    "if phrase_1 > phrase_2:\n",
    "    print('Фраза 1 длиннее фразы 2')\n",
    "elif phrase_1 == phrase_2:\n",
    "    print('Фразы равной длины')\n",
    "else:\n",
    "    print('Фраза 2 длиннее фразы 1')"
   ]
  },
  {
   "cell_type": "code",
   "execution_count": null,
   "id": "192b3f43",
   "metadata": {},
   "outputs": [],
   "source": [
    "year = int(input())\n",
    "if (year % 4 == 0) and (year % 100 != 0) or (year % 400 == 0):\n",
    "    print('Високосный год')\n",
    "else:\n",
    "    print('Обычный год')"
   ]
  },
  {
   "cell_type": "code",
   "execution_count": null,
   "id": "5af8bba4",
   "metadata": {},
   "outputs": [],
   "source": [
    "day = int(input('input day:'))\n",
    "month = str(input(\"input month:\"))\n",
    "if  1 < day < 31: \n",
    "    if month == 'Январь':\n",
    "        if 1 <= day <= 20 :\n",
    "            print('Козерог')\n",
    "        else:\n",
    "            print('Водолей')            \n",
    "    elif month == 'Март': \n",
    "        if 1 <= day <= 20 :\n",
    "            print('Рыбы')\n",
    "        else:\n",
    "            print('Овен')\n",
    "    elif month == 'Май': \n",
    "        if 1 <= day <= 20:\n",
    "            print('Телец')\n",
    "        else:\n",
    "            print('Близнецы')\n",
    "    elif month == 'Июль': \n",
    "        if 1 <= day <= 22 :\n",
    "            print('Рак')\n",
    "        else:\n",
    "            print('Лев') \n",
    "    elif month == 'Август': \n",
    "        if 1 <= day <= 22 :\n",
    "            print('Лев')\n",
    "        else:\n",
    "            print('Дева')\n",
    "    elif month == 'Октябрь': \n",
    "        if 1 <= day <= 23 :\n",
    "            print('Весы')\n",
    "        else:\n",
    "            print('Скорпион')\n",
    "    elif month == 'Декабрь': \n",
    "        if 1 <= day <= 21 :\n",
    "            print('Стрелец')\n",
    "        else:\n",
    "            print('Козерог')         \n",
    "    elif month == 'Апрель': \n",
    "        if 1 <= day <= 19 :\n",
    "            print('Овен')\n",
    "        else:\n",
    "            print('Телец')  \n",
    "    elif month == 'Июнь': \n",
    "        if 1 <= day <= 21 :\n",
    "            print('Близнецы')\n",
    "        else:\n",
    "            print('Рак')    \n",
    "    elif month == 'Сентябрь': \n",
    "        if 1 <= day <= 22 :\n",
    "            print('Дева')\n",
    "        else:\n",
    "            print('Весы')\n",
    "    elif month == 'Ноябрь': \n",
    "        if 1 <= day <= 22 :\n",
    "            print('Скорпион')\n",
    "        else:\n",
    "            print('Стрелец')\n",
    "    elif month == 'Февраль':\n",
    "        if 1<= day <= 18:\n",
    "            print('Водолей')\n",
    "        else:\n",
    "            print('Рыбы')\n",
    "            \n",
    "    else:\n",
    "        print('Ошибка ввода')   \n",
    "else:\n",
    "    print('Ошибка ввода')"
   ]
  },
  {
   "cell_type": "code",
   "execution_count": 3,
   "id": "e9fd375f",
   "metadata": {
    "scrolled": true
   },
   "outputs": [
    {
     "name": "stdout",
     "output_type": "stream",
     "text": [
      "455\n",
      "5\n",
      "5\n",
      "Коробка №1\n"
     ]
    }
   ],
   "source": [
    "width = int(input(width:))\n",
    "length = int(input(length:))\n",
    "height = int(input(height:))\n",
    "if length > 200:\n",
    "    print('Упаковка для лыж')\n",
    "elif width and length and height < 15:\n",
    "    print('Коробка №1')\n",
    "elif (15 < width < 50) or (15 < length < 50) or (15 < height < 50):\n",
    "    print('Коробка №2')\n",
    "else :\n",
    "    print('Стандартная коробка №3')"
   ]
  },
  {
   "cell_type": "code",
   "execution_count": 49,
   "id": "cbe56cad",
   "metadata": {},
   "outputs": [
    {
     "name": "stdout",
     "output_type": "stream",
     "text": [
      "888888\n",
      "Результат:\n",
      "Счастливый билет\n"
     ]
    }
   ],
   "source": [
    "number = int(input())\n",
    "first_dig = number // 100000\n",
    "second_dig = number // 10000 % 10\n",
    "third_dig = number // 1000 % 10\n",
    "fourth_dig = number // 100 % 10\n",
    "fifth_dig = number // 10 % 10\n",
    "sixth_dig = number % 10\n",
    "if (first_dig + second_dig + third_dig) == (fourth_dig + fifth_dig + sixth_dig):\n",
    "    print('Результат:\\nСчастливый билет')\n",
    "else:\n",
    "    print('Результат:\\nНесчастливый билет')"
   ]
  },
  {
   "cell_type": "code",
   "execution_count": 72,
   "id": "f3830c64",
   "metadata": {},
   "outputs": [
    {
     "name": "stdout",
     "output_type": "stream",
     "text": [
      "Введите тип фигуры:565\n",
      "Ошибка ввода\n"
     ]
    }
   ],
   "source": [
    "figure = str(input('Введите тип фигуры:'))\n",
    "pi=3.14\n",
    "if figure == 'Круг':\n",
    "    r=float(input('Введите радиус круга:'))\n",
    "    radius = pi*r**2\n",
    "    print('Результат:\\nПлощадь круга:', radius)\n",
    "elif figure == 'Треугольник':\n",
    "    a=float(input('Введите длину стороны A:'))\n",
    "    b=float(input('Введите длину стороны B:'))\n",
    "    c=float(input('Введите длину стороны C:'))\n",
    "    p=(a+b+c)/2\n",
    "    s=(p*(p-a)*(p-b)*(p-c))**0.5 \n",
    "    print('Результат:\\nПлощадь треугольникa:', round(s,2))\n",
    "elif figure == 'Прямоугольник':\n",
    "    a=float(input('Введите длину стороны A:'))\n",
    "    b=float(input('Введите длину стороны B:'))\n",
    "    print('Результат:\\nПлощадь прямоугольникa:', round(a*b,2))\n",
    "else:\n",
    "    print('Ошибка ввода')"
   ]
  }
 ],
 "metadata": {
  "kernelspec": {
   "display_name": "Python 3",
   "language": "python",
   "name": "python3"
  },
  "language_info": {
   "codemirror_mode": {
    "name": "ipython",
    "version": 3
   },
   "file_extension": ".py",
   "mimetype": "text/x-python",
   "name": "python",
   "nbconvert_exporter": "python",
   "pygments_lexer": "ipython3",
   "version": "3.8.8"
  }
 },
 "nbformat": 4,
 "nbformat_minor": 5
}
